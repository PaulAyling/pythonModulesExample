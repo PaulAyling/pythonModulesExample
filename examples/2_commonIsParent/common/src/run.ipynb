{
 "metadata": {
  "language_info": {
   "codemirror_mode": {
    "name": "ipython",
    "version": 3
   },
   "file_extension": ".py",
   "mimetype": "text/x-python",
   "name": "python",
   "nbconvert_exporter": "python",
   "pygments_lexer": "ipython3",
   "version": "3.8.5"
  },
  "orig_nbformat": 2,
  "kernelspec": {
   "name": "python385jvsc74a57bd0dca0ade3e726a953b501b15e8e990130d2b7799f14cfd9f4271676035ebe5511",
   "display_name": "Python 3.8.5 64-bit ('base': conda)"
  }
 },
 "nbformat": 4,
 "nbformat_minor": 2,
 "cells": [
  {
   "cell_type": "code",
   "execution_count": 6,
   "metadata": {},
   "outputs": [
    {
     "output_type": "stream",
     "name": "stdout",
     "text": [
      "/Users/paul/Documents/dev/python/pythonModulesExample/examples/2_commonIsParent/common\nExecution of run starts\nThis is where a gets called a2\nExecution of run finishes\n"
     ]
    }
   ],
   "source": [
    "import importlib\n",
    "# run this if you edit the import module\n",
    "# importlib.reload(a2)\n",
    "\n",
    "import os,sys,inspect\n",
    "current_dir = os.path.dirname(os.path.abspath(inspect.getfile(inspect.currentframe())))\n",
    "parent_dir = os.path.dirname(current_dir)\n",
    "print(parent_dir)\n",
    "sys.path.insert(0, parent_dir) \n",
    "\n",
    "import a2\n",
    " \n",
    "print(\"Execution of run starts\")\n",
    "a2.CommonFunction()\n",
    "print(\"Execution of run finishes\")"
   ]
  },
  {
   "cell_type": "code",
   "execution_count": null,
   "metadata": {},
   "outputs": [],
   "source": []
  }
 ]
}